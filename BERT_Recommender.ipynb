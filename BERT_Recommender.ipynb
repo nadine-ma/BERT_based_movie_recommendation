{
 "cells": [
  {
   "cell_type": "markdown",
   "id": "e3df5a56",
   "metadata": {},
   "source": [
    "# Content-based recommender using pretrained BERT language model \n",
    "\n",
    "### project in work"
   ]
  },
  {
   "cell_type": "markdown",
   "id": "d884dd81",
   "metadata": {},
   "source": [
    "MovieLens 100K Dataset taken from: https://grouplens.org/datasets/movielens/100k/"
   ]
  },
  {
   "cell_type": "code",
   "execution_count": 1,
   "id": "55832db6",
   "metadata": {},
   "outputs": [
    {
     "name": "stderr",
     "output_type": "stream",
     "text": [
      "C:\\Users\\Nadine\\AppData\\Roaming\\Python\\Python38\\site-packages\\tqdm\\auto.py:22: TqdmWarning: IProgress not found. Please update jupyter and ipywidgets. See https://ipywidgets.readthedocs.io/en/stable/user_install.html\n",
      "  from .autonotebook import tqdm as notebook_tqdm\n"
     ]
    }
   ],
   "source": [
    "import torch\n",
    "from dateutil import parser\n",
    "import itertools\n",
    "import math\n",
    "import pandas as pd\n",
    "import numpy as np\n",
    "import seaborn as sns\n",
    "from dython.nominal import associations\n",
    "import association_metrics as am\n",
    "import matplotlib.pyplot as plt\n",
    "from sklearn.model_selection import train_test_split \n",
    "from scipy import stats\n",
    "from collections import Counter, OrderedDict\n",
    "from statistics import mean \n",
    "import random\n",
    "import os\n",
    "import datetime\n",
    "from torch.utils.data import Dataset, DataLoader\n",
    "import torch.nn as nn\n",
    "import torch.optim as optim\n",
    "from tqdm import tqdm\n",
    "import csv \n",
    "\n",
    "\n",
    "from sentence_transformers import SentenceTransformer\n",
    "from sklearn.feature_extraction.text import CountVectorizer\n",
    "from sklearn.metrics.pairwise import cosine_similarity\n",
    "\n",
    "\n",
    "from sklearn.naive_bayes import GaussianNB\n",
    "from sklearn.neighbors import KNeighborsClassifier\n",
    "from sklearn.linear_model import RidgeClassifier\n",
    "from sklearn.ensemble import RandomForestClassifier\n",
    "from sklearn.neural_network import MLPClassifier\n",
    "from sklearn.metrics import accuracy_score, f1_score, recall_score, roc_auc_score, balanced_accuracy_score\n",
    "\n",
    "from sklearn.metrics import ConfusionMatrixDisplay"
   ]
  },
  {
   "cell_type": "code",
   "execution_count": 2,
   "id": "078da941",
   "metadata": {},
   "outputs": [],
   "source": [
    "names=['User_Id', 'Movie_Id', 'Rating', 'Timestamp']\n",
    "ratings = pd.read_csv('data/ml-100k/u.data', names=names, sep='\\t', encoding='latin-1')\n",
    "\n",
    "names = ['Movie_Id', 'Title', 'Release_Year', 'Video_Release_Date', 'IMDb_URL', 'Unknown', 'Action', 'Adventure', 'Animation', 'Childrens', 'Comedy', 'Crime', 'Documentary', 'Drama', 'Fantasy', 'Film-Noir', 'Horror', 'Musical', 'Mystery', 'Romance', 'Sci-Fi', 'Thriller', 'War', 'Western']\n",
    "movies = pd.read_csv('data/ml-100k/u.item', names=names, sep='|', encoding='latin-1')\n"
   ]
  },
  {
   "cell_type": "code",
   "execution_count": 3,
   "id": "186fc20f",
   "metadata": {},
   "outputs": [
    {
     "data": {
      "text/html": [
       "<div>\n",
       "<style scoped>\n",
       "    .dataframe tbody tr th:only-of-type {\n",
       "        vertical-align: middle;\n",
       "    }\n",
       "\n",
       "    .dataframe tbody tr th {\n",
       "        vertical-align: top;\n",
       "    }\n",
       "\n",
       "    .dataframe thead th {\n",
       "        text-align: right;\n",
       "    }\n",
       "</style>\n",
       "<table border=\"1\" class=\"dataframe\">\n",
       "  <thead>\n",
       "    <tr style=\"text-align: right;\">\n",
       "      <th></th>\n",
       "      <th>Movie_Id</th>\n",
       "      <th>Title</th>\n",
       "      <th>Release_Year</th>\n",
       "      <th>Video_Release_Date</th>\n",
       "      <th>IMDb_URL</th>\n",
       "      <th>Unknown</th>\n",
       "      <th>Action</th>\n",
       "      <th>Adventure</th>\n",
       "      <th>Animation</th>\n",
       "      <th>Childrens</th>\n",
       "      <th>...</th>\n",
       "      <th>Fantasy</th>\n",
       "      <th>Film-Noir</th>\n",
       "      <th>Horror</th>\n",
       "      <th>Musical</th>\n",
       "      <th>Mystery</th>\n",
       "      <th>Romance</th>\n",
       "      <th>Sci-Fi</th>\n",
       "      <th>Thriller</th>\n",
       "      <th>War</th>\n",
       "      <th>Western</th>\n",
       "    </tr>\n",
       "  </thead>\n",
       "  <tbody>\n",
       "    <tr>\n",
       "      <th>0</th>\n",
       "      <td>1</td>\n",
       "      <td>Toy Story (1995)</td>\n",
       "      <td>01-Jan-1995</td>\n",
       "      <td>NaN</td>\n",
       "      <td>http://us.imdb.com/M/title-exact?Toy%20Story%2...</td>\n",
       "      <td>0</td>\n",
       "      <td>0</td>\n",
       "      <td>0</td>\n",
       "      <td>1</td>\n",
       "      <td>1</td>\n",
       "      <td>...</td>\n",
       "      <td>0</td>\n",
       "      <td>0</td>\n",
       "      <td>0</td>\n",
       "      <td>0</td>\n",
       "      <td>0</td>\n",
       "      <td>0</td>\n",
       "      <td>0</td>\n",
       "      <td>0</td>\n",
       "      <td>0</td>\n",
       "      <td>0</td>\n",
       "    </tr>\n",
       "    <tr>\n",
       "      <th>1</th>\n",
       "      <td>2</td>\n",
       "      <td>GoldenEye (1995)</td>\n",
       "      <td>01-Jan-1995</td>\n",
       "      <td>NaN</td>\n",
       "      <td>http://us.imdb.com/M/title-exact?GoldenEye%20(...</td>\n",
       "      <td>0</td>\n",
       "      <td>1</td>\n",
       "      <td>1</td>\n",
       "      <td>0</td>\n",
       "      <td>0</td>\n",
       "      <td>...</td>\n",
       "      <td>0</td>\n",
       "      <td>0</td>\n",
       "      <td>0</td>\n",
       "      <td>0</td>\n",
       "      <td>0</td>\n",
       "      <td>0</td>\n",
       "      <td>0</td>\n",
       "      <td>1</td>\n",
       "      <td>0</td>\n",
       "      <td>0</td>\n",
       "    </tr>\n",
       "    <tr>\n",
       "      <th>2</th>\n",
       "      <td>3</td>\n",
       "      <td>Four Rooms (1995)</td>\n",
       "      <td>01-Jan-1995</td>\n",
       "      <td>NaN</td>\n",
       "      <td>http://us.imdb.com/M/title-exact?Four%20Rooms%...</td>\n",
       "      <td>0</td>\n",
       "      <td>0</td>\n",
       "      <td>0</td>\n",
       "      <td>0</td>\n",
       "      <td>0</td>\n",
       "      <td>...</td>\n",
       "      <td>0</td>\n",
       "      <td>0</td>\n",
       "      <td>0</td>\n",
       "      <td>0</td>\n",
       "      <td>0</td>\n",
       "      <td>0</td>\n",
       "      <td>0</td>\n",
       "      <td>1</td>\n",
       "      <td>0</td>\n",
       "      <td>0</td>\n",
       "    </tr>\n",
       "  </tbody>\n",
       "</table>\n",
       "<p>3 rows × 24 columns</p>\n",
       "</div>"
      ],
      "text/plain": [
       "   Movie_Id              Title Release_Year  Video_Release_Date  \\\n",
       "0         1   Toy Story (1995)  01-Jan-1995                 NaN   \n",
       "1         2   GoldenEye (1995)  01-Jan-1995                 NaN   \n",
       "2         3  Four Rooms (1995)  01-Jan-1995                 NaN   \n",
       "\n",
       "                                            IMDb_URL  Unknown  Action  \\\n",
       "0  http://us.imdb.com/M/title-exact?Toy%20Story%2...        0       0   \n",
       "1  http://us.imdb.com/M/title-exact?GoldenEye%20(...        0       1   \n",
       "2  http://us.imdb.com/M/title-exact?Four%20Rooms%...        0       0   \n",
       "\n",
       "   Adventure  Animation  Childrens  ...  Fantasy  Film-Noir  Horror  Musical  \\\n",
       "0          0          1          1  ...        0          0       0        0   \n",
       "1          1          0          0  ...        0          0       0        0   \n",
       "2          0          0          0  ...        0          0       0        0   \n",
       "\n",
       "   Mystery  Romance  Sci-Fi  Thriller  War  Western  \n",
       "0        0        0       0         0    0        0  \n",
       "1        0        0       0         1    0        0  \n",
       "2        0        0       0         1    0        0  \n",
       "\n",
       "[3 rows x 24 columns]"
      ]
     },
     "execution_count": 3,
     "metadata": {},
     "output_type": "execute_result"
    }
   ],
   "source": [
    "movies.head(3)"
   ]
  },
  {
   "cell_type": "code",
   "execution_count": 4,
   "id": "84f58d70",
   "metadata": {},
   "outputs": [
    {
     "data": {
      "text/html": [
       "<div>\n",
       "<style scoped>\n",
       "    .dataframe tbody tr th:only-of-type {\n",
       "        vertical-align: middle;\n",
       "    }\n",
       "\n",
       "    .dataframe tbody tr th {\n",
       "        vertical-align: top;\n",
       "    }\n",
       "\n",
       "    .dataframe thead th {\n",
       "        text-align: right;\n",
       "    }\n",
       "</style>\n",
       "<table border=\"1\" class=\"dataframe\">\n",
       "  <thead>\n",
       "    <tr style=\"text-align: right;\">\n",
       "      <th></th>\n",
       "      <th>Movie_Id</th>\n",
       "      <th>Title</th>\n",
       "      <th>Release_Year</th>\n",
       "      <th>Video_Release_Date</th>\n",
       "      <th>IMDb_URL</th>\n",
       "      <th>Unknown</th>\n",
       "      <th>Action</th>\n",
       "      <th>Adventure</th>\n",
       "      <th>Animation</th>\n",
       "      <th>Childrens</th>\n",
       "      <th>...</th>\n",
       "      <th>Fantasy</th>\n",
       "      <th>Film-Noir</th>\n",
       "      <th>Horror</th>\n",
       "      <th>Musical</th>\n",
       "      <th>Mystery</th>\n",
       "      <th>Romance</th>\n",
       "      <th>Sci-Fi</th>\n",
       "      <th>Thriller</th>\n",
       "      <th>War</th>\n",
       "      <th>Western</th>\n",
       "    </tr>\n",
       "  </thead>\n",
       "  <tbody>\n",
       "    <tr>\n",
       "      <th>0</th>\n",
       "      <td>1</td>\n",
       "      <td>Toy Story</td>\n",
       "      <td>1995</td>\n",
       "      <td>01-Jan-1995</td>\n",
       "      <td>http://us.imdb.com/M/title-exact?Toy%20Story%2...</td>\n",
       "      <td>0</td>\n",
       "      <td>0</td>\n",
       "      <td>0</td>\n",
       "      <td>1</td>\n",
       "      <td>1</td>\n",
       "      <td>...</td>\n",
       "      <td>0</td>\n",
       "      <td>0</td>\n",
       "      <td>0</td>\n",
       "      <td>0</td>\n",
       "      <td>0</td>\n",
       "      <td>0</td>\n",
       "      <td>0</td>\n",
       "      <td>0</td>\n",
       "      <td>0</td>\n",
       "      <td>0</td>\n",
       "    </tr>\n",
       "    <tr>\n",
       "      <th>1</th>\n",
       "      <td>2</td>\n",
       "      <td>GoldenEye</td>\n",
       "      <td>1995</td>\n",
       "      <td>01-Jan-1995</td>\n",
       "      <td>http://us.imdb.com/M/title-exact?GoldenEye%20(...</td>\n",
       "      <td>0</td>\n",
       "      <td>1</td>\n",
       "      <td>1</td>\n",
       "      <td>0</td>\n",
       "      <td>0</td>\n",
       "      <td>...</td>\n",
       "      <td>0</td>\n",
       "      <td>0</td>\n",
       "      <td>0</td>\n",
       "      <td>0</td>\n",
       "      <td>0</td>\n",
       "      <td>0</td>\n",
       "      <td>0</td>\n",
       "      <td>1</td>\n",
       "      <td>0</td>\n",
       "      <td>0</td>\n",
       "    </tr>\n",
       "  </tbody>\n",
       "</table>\n",
       "<p>2 rows × 24 columns</p>\n",
       "</div>"
      ],
      "text/plain": [
       "   Movie_Id      Title Release_Year Video_Release_Date  \\\n",
       "0         1  Toy Story         1995        01-Jan-1995   \n",
       "1         2  GoldenEye         1995        01-Jan-1995   \n",
       "\n",
       "                                            IMDb_URL  Unknown  Action  \\\n",
       "0  http://us.imdb.com/M/title-exact?Toy%20Story%2...        0       0   \n",
       "1  http://us.imdb.com/M/title-exact?GoldenEye%20(...        0       1   \n",
       "\n",
       "   Adventure  Animation  Childrens  ...  Fantasy  Film-Noir  Horror  Musical  \\\n",
       "0          0          1          1  ...        0          0       0        0   \n",
       "1          1          0          0  ...        0          0       0        0   \n",
       "\n",
       "   Mystery  Romance  Sci-Fi  Thriller  War  Western  \n",
       "0        0        0       0         0    0        0  \n",
       "1        0        0       0         1    0        0  \n",
       "\n",
       "[2 rows x 24 columns]"
      ]
     },
     "execution_count": 4,
     "metadata": {},
     "output_type": "execute_result"
    }
   ],
   "source": [
    "movies['Video_Release_Date'] = movies['Release_Year']\n",
    "\n",
    "movies['Release_Year'] = movies['Title'].str[-5:-1]\n",
    "movies['Title'] = movies['Title'].str[0:-7]\n",
    "\n",
    "movies.head(2)"
   ]
  },
  {
   "cell_type": "markdown",
   "id": "6be23a27",
   "metadata": {},
   "source": [
    "Edited the release year and release date data"
   ]
  },
  {
   "cell_type": "code",
   "execution_count": 5,
   "id": "c8f6406c",
   "metadata": {},
   "outputs": [],
   "source": [
    "result = [''] * len(movies['Movie_Id'])\n",
    "genres = ['Unknown', 'Action', 'Adventure', 'Animation', 'Childrens', 'Comedy', 'Crime', 'Documentary', 'Drama', 'Fantasy', 'Film-Noir', 'Horror', 'Musical', 'Mystery', 'Romance', 'Sci-Fi', 'Thriller', 'War', 'Western']\n",
    "for col in genres:\n",
    "    i = 0\n",
    "    for value in movies[col]:\n",
    "        if value == 1:\n",
    "            result[i] = result[i] + ',' + movies[col].name\n",
    "        else:\n",
    "            result[i] = result[i]\n",
    "        i += 1\n",
    "        \n",
    "movies['Genres'] = result\n",
    "movies['Genres'] = movies['Genres'].str[1:]\n"
   ]
  },
  {
   "cell_type": "code",
   "execution_count": 6,
   "id": "c6a14443",
   "metadata": {},
   "outputs": [
    {
     "data": {
      "text/html": [
       "<div>\n",
       "<style scoped>\n",
       "    .dataframe tbody tr th:only-of-type {\n",
       "        vertical-align: middle;\n",
       "    }\n",
       "\n",
       "    .dataframe tbody tr th {\n",
       "        vertical-align: top;\n",
       "    }\n",
       "\n",
       "    .dataframe thead th {\n",
       "        text-align: right;\n",
       "    }\n",
       "</style>\n",
       "<table border=\"1\" class=\"dataframe\">\n",
       "  <thead>\n",
       "    <tr style=\"text-align: right;\">\n",
       "      <th></th>\n",
       "      <th>Title</th>\n",
       "      <th>Release_Year</th>\n",
       "      <th>Video_Release_Date</th>\n",
       "      <th>IMDb_URL</th>\n",
       "      <th>Genres</th>\n",
       "    </tr>\n",
       "    <tr>\n",
       "      <th>Movie_Id</th>\n",
       "      <th></th>\n",
       "      <th></th>\n",
       "      <th></th>\n",
       "      <th></th>\n",
       "      <th></th>\n",
       "    </tr>\n",
       "  </thead>\n",
       "  <tbody>\n",
       "    <tr>\n",
       "      <th>1</th>\n",
       "      <td>Toy Story</td>\n",
       "      <td>1995</td>\n",
       "      <td>01-Jan-1995</td>\n",
       "      <td>http://us.imdb.com/M/title-exact?Toy%20Story%2...</td>\n",
       "      <td>Animation,Childrens,Comedy</td>\n",
       "    </tr>\n",
       "    <tr>\n",
       "      <th>2</th>\n",
       "      <td>GoldenEye</td>\n",
       "      <td>1995</td>\n",
       "      <td>01-Jan-1995</td>\n",
       "      <td>http://us.imdb.com/M/title-exact?GoldenEye%20(...</td>\n",
       "      <td>Action,Adventure,Thriller</td>\n",
       "    </tr>\n",
       "  </tbody>\n",
       "</table>\n",
       "</div>"
      ],
      "text/plain": [
       "              Title Release_Year Video_Release_Date  \\\n",
       "Movie_Id                                              \n",
       "1         Toy Story         1995        01-Jan-1995   \n",
       "2         GoldenEye         1995        01-Jan-1995   \n",
       "\n",
       "                                                   IMDb_URL  \\\n",
       "Movie_Id                                                      \n",
       "1         http://us.imdb.com/M/title-exact?Toy%20Story%2...   \n",
       "2         http://us.imdb.com/M/title-exact?GoldenEye%20(...   \n",
       "\n",
       "                              Genres  \n",
       "Movie_Id                              \n",
       "1         Animation,Childrens,Comedy  \n",
       "2          Action,Adventure,Thriller  "
      ]
     },
     "execution_count": 6,
     "metadata": {},
     "output_type": "execute_result"
    }
   ],
   "source": [
    "movies = movies[['Movie_Id', 'Title', 'Release_Year', 'Video_Release_Date', 'IMDb_URL', 'Genres']]\n",
    "movies.set_index('Movie_Id', inplace = True)\n",
    "movies.head(2)"
   ]
  },
  {
   "cell_type": "markdown",
   "id": "2da6cd78",
   "metadata": {},
   "source": [
    "Added genre information as strings to movies and removed the binary genre information"
   ]
  },
  {
   "cell_type": "code",
   "execution_count": 7,
   "id": "2ca04052",
   "metadata": {},
   "outputs": [
    {
     "name": "stdout",
     "output_type": "stream",
     "text": [
      "<class 'pandas.core.frame.DataFrame'>\n",
      "RangeIndex: 100000 entries, 0 to 99999\n",
      "Data columns (total 4 columns):\n",
      " #   Column     Non-Null Count   Dtype\n",
      "---  ------     --------------   -----\n",
      " 0   User_Id    100000 non-null  int64\n",
      " 1   Movie_Id   100000 non-null  int64\n",
      " 2   Rating     100000 non-null  int64\n",
      " 3   Timestamp  100000 non-null  int64\n",
      "dtypes: int64(4)\n",
      "memory usage: 3.1 MB\n"
     ]
    }
   ],
   "source": [
    "ratings.info()"
   ]
  },
  {
   "cell_type": "code",
   "execution_count": 8,
   "id": "b3293fe4",
   "metadata": {},
   "outputs": [
    {
     "name": "stdout",
     "output_type": "stream",
     "text": [
      "1682 unique users in ratings\n",
      "1682 unique movies in ratings\n"
     ]
    }
   ],
   "source": [
    "print(f\"{len(ratings['Movie_Id'].unique())} unique users in ratings\")\n",
    "print(f\"{len(ratings['Movie_Id'].unique())} unique movies in ratings\")\n"
   ]
  },
  {
   "cell_type": "markdown",
   "id": "b32f2251",
   "metadata": {},
   "source": [
    "100,000 Ratings total by 943 unique users on 1682 unique movies"
   ]
  },
  {
   "cell_type": "code",
   "execution_count": 9,
   "id": "9fb51a19",
   "metadata": {
    "scrolled": true
   },
   "outputs": [
    {
     "data": {
      "text/plain": [
       "count    100000.000000\n",
       "mean          3.529860\n",
       "std           1.125674\n",
       "min           1.000000\n",
       "25%           3.000000\n",
       "50%           4.000000\n",
       "75%           4.000000\n",
       "max           5.000000\n",
       "Name: Rating, dtype: float64"
      ]
     },
     "execution_count": 9,
     "metadata": {},
     "output_type": "execute_result"
    }
   ],
   "source": [
    "ratings['Rating'].describe().T"
   ]
  },
  {
   "cell_type": "markdown",
   "id": "3e9c5064",
   "metadata": {},
   "source": [
    "The 100,000 ratings have a mean rating value of 3.529. The ratings scale goes from 1 to 5."
   ]
  },
  {
   "cell_type": "code",
   "execution_count": 10,
   "id": "6074770b",
   "metadata": {
    "scrolled": true
   },
   "outputs": [
    {
     "name": "stdout",
     "output_type": "stream",
     "text": [
      "<class 'pandas.core.frame.DataFrame'>\n",
      "Index: 1682 entries, 1 to 1682\n",
      "Data columns (total 5 columns):\n",
      " #   Column              Non-Null Count  Dtype \n",
      "---  ------              --------------  ----- \n",
      " 0   Title               1682 non-null   object\n",
      " 1   Release_Year        1682 non-null   object\n",
      " 2   Video_Release_Date  1681 non-null   object\n",
      " 3   IMDb_URL            1679 non-null   object\n",
      " 4   Genres              1682 non-null   object\n",
      "dtypes: object(5)\n",
      "memory usage: 78.8+ KB\n"
     ]
    }
   ],
   "source": [
    "movies.info()"
   ]
  },
  {
   "cell_type": "markdown",
   "id": "4c920e74",
   "metadata": {},
   "source": [
    "1 movie misses a Video_Release_Date value and 3 movies miss IMDb_URL information."
   ]
  },
  {
   "cell_type": "code",
   "execution_count": 11,
   "id": "cce612c9",
   "metadata": {},
   "outputs": [
    {
     "data": {
      "text/html": [
       "<div>\n",
       "<style scoped>\n",
       "    .dataframe tbody tr th:only-of-type {\n",
       "        vertical-align: middle;\n",
       "    }\n",
       "\n",
       "    .dataframe tbody tr th {\n",
       "        vertical-align: top;\n",
       "    }\n",
       "\n",
       "    .dataframe thead th {\n",
       "        text-align: right;\n",
       "    }\n",
       "</style>\n",
       "<table border=\"1\" class=\"dataframe\">\n",
       "  <thead>\n",
       "    <tr style=\"text-align: right;\">\n",
       "      <th></th>\n",
       "      <th>count</th>\n",
       "      <th>unique</th>\n",
       "      <th>top</th>\n",
       "      <th>freq</th>\n",
       "    </tr>\n",
       "  </thead>\n",
       "  <tbody>\n",
       "    <tr>\n",
       "      <th>Title</th>\n",
       "      <td>1682</td>\n",
       "      <td>1659</td>\n",
       "      <td>That Darn Cat!</td>\n",
       "      <td>3</td>\n",
       "    </tr>\n",
       "    <tr>\n",
       "      <th>Release_Year</th>\n",
       "      <td>1682</td>\n",
       "      <td>76</td>\n",
       "      <td>1996</td>\n",
       "      <td>297</td>\n",
       "    </tr>\n",
       "    <tr>\n",
       "      <th>Video_Release_Date</th>\n",
       "      <td>1681</td>\n",
       "      <td>240</td>\n",
       "      <td>01-Jan-1995</td>\n",
       "      <td>215</td>\n",
       "    </tr>\n",
       "    <tr>\n",
       "      <th>IMDb_URL</th>\n",
       "      <td>1679</td>\n",
       "      <td>1660</td>\n",
       "      <td>http://us.imdb.com/M/title-exact?Designated%20...</td>\n",
       "      <td>2</td>\n",
       "    </tr>\n",
       "    <tr>\n",
       "      <th>Genres</th>\n",
       "      <td>1682</td>\n",
       "      <td>216</td>\n",
       "      <td>Drama</td>\n",
       "      <td>376</td>\n",
       "    </tr>\n",
       "  </tbody>\n",
       "</table>\n",
       "</div>"
      ],
      "text/plain": [
       "                   count unique  \\\n",
       "Title               1682   1659   \n",
       "Release_Year        1682     76   \n",
       "Video_Release_Date  1681    240   \n",
       "IMDb_URL            1679   1660   \n",
       "Genres              1682    216   \n",
       "\n",
       "                                                                  top freq  \n",
       "Title                                                  That Darn Cat!    3  \n",
       "Release_Year                                                     1996  297  \n",
       "Video_Release_Date                                        01-Jan-1995  215  \n",
       "IMDb_URL            http://us.imdb.com/M/title-exact?Designated%20...    2  \n",
       "Genres                                                          Drama  376  "
      ]
     },
     "execution_count": 11,
     "metadata": {},
     "output_type": "execute_result"
    }
   ],
   "source": [
    "movies.describe(exclude=np.number).T"
   ]
  },
  {
   "cell_type": "markdown",
   "id": "92d2dd59",
   "metadata": {},
   "source": [
    "- Only 1659 unique movie titles compared to the movie count of 1682 --> Check the duplicates\n",
    "- Only 1660 unique IMDB urls compared to the movie count of 1682 --> Check the duplicates\n",
    "- 76 different release years"
   ]
  },
  {
   "cell_type": "code",
   "execution_count": 12,
   "id": "8b26814d",
   "metadata": {},
   "outputs": [
    {
     "name": "stdout",
     "output_type": "stream",
     "text": [
      "18\n"
     ]
    },
    {
     "data": {
      "text/html": [
       "<div>\n",
       "<style scoped>\n",
       "    .dataframe tbody tr th:only-of-type {\n",
       "        vertical-align: middle;\n",
       "    }\n",
       "\n",
       "    .dataframe tbody tr th {\n",
       "        vertical-align: top;\n",
       "    }\n",
       "\n",
       "    .dataframe thead th {\n",
       "        text-align: right;\n",
       "    }\n",
       "</style>\n",
       "<table border=\"1\" class=\"dataframe\">\n",
       "  <thead>\n",
       "    <tr style=\"text-align: right;\">\n",
       "      <th></th>\n",
       "      <th>Title</th>\n",
       "      <th>Release_Year</th>\n",
       "      <th>Video_Release_Date</th>\n",
       "      <th>IMDb_URL</th>\n",
       "      <th>Genres</th>\n",
       "    </tr>\n",
       "    <tr>\n",
       "      <th>Movie_Id</th>\n",
       "      <th></th>\n",
       "      <th></th>\n",
       "      <th></th>\n",
       "      <th></th>\n",
       "      <th></th>\n",
       "    </tr>\n",
       "  </thead>\n",
       "  <tbody>\n",
       "    <tr>\n",
       "      <th>670</th>\n",
       "      <td>Body Snatchers</td>\n",
       "      <td>1993</td>\n",
       "      <td>01-Jan-1993</td>\n",
       "      <td>http://us.imdb.com/M/title-exact?Body%20Snatch...</td>\n",
       "      <td>Horror,Sci-Fi,Thriller</td>\n",
       "    </tr>\n",
       "    <tr>\n",
       "      <th>573</th>\n",
       "      <td>Body Snatchers</td>\n",
       "      <td>1993</td>\n",
       "      <td>01-Jan-1993</td>\n",
       "      <td>http://us.imdb.com/M/title-exact?Body%20Snatch...</td>\n",
       "      <td>Horror,Sci-Fi,Thriller</td>\n",
       "    </tr>\n",
       "    <tr>\n",
       "      <th>1650</th>\n",
       "      <td>Butcher Boy, The</td>\n",
       "      <td>1998</td>\n",
       "      <td>01-Jan-1998</td>\n",
       "      <td>http://us.imdb.com/M/title-exact?imdb-title-11...</td>\n",
       "      <td>Drama</td>\n",
       "    </tr>\n",
       "    <tr>\n",
       "      <th>1645</th>\n",
       "      <td>Butcher Boy, The</td>\n",
       "      <td>1998</td>\n",
       "      <td>01-Jan-1998</td>\n",
       "      <td>http://us.imdb.com/M/title-exact?imdb-title-11...</td>\n",
       "      <td>Drama</td>\n",
       "    </tr>\n",
       "    <tr>\n",
       "      <th>1234</th>\n",
       "      <td>Chairman of the Board</td>\n",
       "      <td>1998</td>\n",
       "      <td>01-Jan-1998</td>\n",
       "      <td>http://us.imdb.com/Title?Chairman+of+the+Board...</td>\n",
       "      <td>Comedy</td>\n",
       "    </tr>\n",
       "    <tr>\n",
       "      <th>1654</th>\n",
       "      <td>Chairman of the Board</td>\n",
       "      <td>1998</td>\n",
       "      <td>01-Jan-1998</td>\n",
       "      <td>http://us.imdb.com/Title?Chairman+of+the+Board...</td>\n",
       "      <td>Comedy</td>\n",
       "    </tr>\n",
       "    <tr>\n",
       "      <th>246</th>\n",
       "      <td>Chasing Amy</td>\n",
       "      <td>1997</td>\n",
       "      <td>01-Jan-1997</td>\n",
       "      <td>http://us.imdb.com/M/title-exact?Chasing+Amy+(...</td>\n",
       "      <td>Drama,Romance</td>\n",
       "    </tr>\n",
       "    <tr>\n",
       "      <th>268</th>\n",
       "      <td>Chasing Amy</td>\n",
       "      <td>1997</td>\n",
       "      <td>01-Jan-1997</td>\n",
       "      <td>http://us.imdb.com/M/title-exact?Chasing+Amy+(...</td>\n",
       "      <td>Drama,Romance</td>\n",
       "    </tr>\n",
       "    <tr>\n",
       "      <th>1606</th>\n",
       "      <td>Deceiver</td>\n",
       "      <td>1997</td>\n",
       "      <td>01-Jan-1997</td>\n",
       "      <td>http://us.imdb.com/M/title-exact?Liar+(1997)</td>\n",
       "      <td>Crime</td>\n",
       "    </tr>\n",
       "    <tr>\n",
       "      <th>309</th>\n",
       "      <td>Deceiver</td>\n",
       "      <td>1997</td>\n",
       "      <td>01-Jan-1997</td>\n",
       "      <td>http://us.imdb.com/M/title-exact?Liar+(1997)</td>\n",
       "      <td>Crime</td>\n",
       "    </tr>\n",
       "    <tr>\n",
       "      <th>1257</th>\n",
       "      <td>Designated Mourner, The</td>\n",
       "      <td>1997</td>\n",
       "      <td>23-May-1997</td>\n",
       "      <td>http://us.imdb.com/M/title-exact?Designated%20...</td>\n",
       "      <td>Drama</td>\n",
       "    </tr>\n",
       "    <tr>\n",
       "      <th>1256</th>\n",
       "      <td>Designated Mourner, The</td>\n",
       "      <td>1997</td>\n",
       "      <td>23-May-1997</td>\n",
       "      <td>http://us.imdb.com/M/title-exact?Designated%20...</td>\n",
       "      <td>Drama</td>\n",
       "    </tr>\n",
       "    <tr>\n",
       "      <th>348</th>\n",
       "      <td>Desperate Measures</td>\n",
       "      <td>1998</td>\n",
       "      <td>30-Jan-1998</td>\n",
       "      <td>http://us.imdb.com/Title?Desperate+Measures+(1...</td>\n",
       "      <td>Crime,Drama,Thriller</td>\n",
       "    </tr>\n",
       "    <tr>\n",
       "      <th>329</th>\n",
       "      <td>Desperate Measures</td>\n",
       "      <td>1998</td>\n",
       "      <td>30-Jan-1998</td>\n",
       "      <td>http://us.imdb.com/Title?Desperate+Measures+(1...</td>\n",
       "      <td>Crime,Drama,Thriller</td>\n",
       "    </tr>\n",
       "    <tr>\n",
       "      <th>500</th>\n",
       "      <td>Fly Away Home</td>\n",
       "      <td>1996</td>\n",
       "      <td>13-Sep-1996</td>\n",
       "      <td>http://us.imdb.com/M/title-exact?Fly%20Away%20...</td>\n",
       "      <td>Adventure,Childrens</td>\n",
       "    </tr>\n",
       "    <tr>\n",
       "      <th>304</th>\n",
       "      <td>Fly Away Home</td>\n",
       "      <td>1996</td>\n",
       "      <td>13-Sep-1996</td>\n",
       "      <td>http://us.imdb.com/M/title-exact?Fly%20Away%20...</td>\n",
       "      <td>Adventure,Childrens</td>\n",
       "    </tr>\n",
       "    <tr>\n",
       "      <th>1617</th>\n",
       "      <td>Hugo Pool</td>\n",
       "      <td>1997</td>\n",
       "      <td>01-Jan-1997</td>\n",
       "      <td>http://us.imdb.com/M/title-exact?Hugo+Pool+(1997)</td>\n",
       "      <td>Romance</td>\n",
       "    </tr>\n",
       "    <tr>\n",
       "      <th>1175</th>\n",
       "      <td>Hugo Pool</td>\n",
       "      <td>1997</td>\n",
       "      <td>01-Jan-1997</td>\n",
       "      <td>http://us.imdb.com/M/title-exact?Hugo+Pool+(1997)</td>\n",
       "      <td>Romance</td>\n",
       "    </tr>\n",
       "    <tr>\n",
       "      <th>1607</th>\n",
       "      <td>Hurricane Streets</td>\n",
       "      <td>1998</td>\n",
       "      <td>01-Jan-1998</td>\n",
       "      <td>http://us.imdb.com/Title?Hurricane+Streets+(1998)</td>\n",
       "      <td>Drama</td>\n",
       "    </tr>\n",
       "    <tr>\n",
       "      <th>1395</th>\n",
       "      <td>Hurricane Streets</td>\n",
       "      <td>1998</td>\n",
       "      <td>01-Jan-1998</td>\n",
       "      <td>http://us.imdb.com/Title?Hurricane+Streets+(1998)</td>\n",
       "      <td>Drama</td>\n",
       "    </tr>\n",
       "    <tr>\n",
       "      <th>305</th>\n",
       "      <td>Ice Storm, The</td>\n",
       "      <td>1997</td>\n",
       "      <td>01-Jan-1997</td>\n",
       "      <td>http://us.imdb.com/M/title-exact?Ice+Storm%2C+...</td>\n",
       "      <td>Drama</td>\n",
       "    </tr>\n",
       "    <tr>\n",
       "      <th>865</th>\n",
       "      <td>Ice Storm, The</td>\n",
       "      <td>1997</td>\n",
       "      <td>01-Jan-1997</td>\n",
       "      <td>http://us.imdb.com/M/title-exact?Ice+Storm%2C+...</td>\n",
       "      <td>Drama</td>\n",
       "    </tr>\n",
       "    <tr>\n",
       "      <th>680</th>\n",
       "      <td>Kull the Conqueror</td>\n",
       "      <td>1997</td>\n",
       "      <td>29-Aug-1997</td>\n",
       "      <td>http://us.imdb.com/M/title-exact?Kull+the+Conq...</td>\n",
       "      <td>Action,Adventure</td>\n",
       "    </tr>\n",
       "    <tr>\n",
       "      <th>266</th>\n",
       "      <td>Kull the Conqueror</td>\n",
       "      <td>1997</td>\n",
       "      <td>29-Aug-1997</td>\n",
       "      <td>http://us.imdb.com/M/title-exact?Kull+the+Conq...</td>\n",
       "      <td>Action,Adventure</td>\n",
       "    </tr>\n",
       "    <tr>\n",
       "      <th>876</th>\n",
       "      <td>Money Talks</td>\n",
       "      <td>1997</td>\n",
       "      <td>22-Aug-1997</td>\n",
       "      <td>http://us.imdb.com/M/title-exact?Money+Talks+(...</td>\n",
       "      <td>Action,Comedy</td>\n",
       "    </tr>\n",
       "    <tr>\n",
       "      <th>881</th>\n",
       "      <td>Money Talks</td>\n",
       "      <td>1997</td>\n",
       "      <td>22-Aug-1997</td>\n",
       "      <td>http://us.imdb.com/M/title-exact?Money+Talks+(...</td>\n",
       "      <td>Action,Comedy</td>\n",
       "    </tr>\n",
       "    <tr>\n",
       "      <th>1625</th>\n",
       "      <td>Nightwatch</td>\n",
       "      <td>1997</td>\n",
       "      <td>22-Apr-1997</td>\n",
       "      <td>http://us.imdb.com/M/title-exact?Nightwatch%20...</td>\n",
       "      <td>Horror,Thriller</td>\n",
       "    </tr>\n",
       "    <tr>\n",
       "      <th>1477</th>\n",
       "      <td>Nightwatch</td>\n",
       "      <td>1997</td>\n",
       "      <td>22-Apr-1997</td>\n",
       "      <td>http://us.imdb.com/M/title-exact?Nightwatch%20...</td>\n",
       "      <td>Horror,Thriller</td>\n",
       "    </tr>\n",
       "    <tr>\n",
       "      <th>1680</th>\n",
       "      <td>Sliding Doors</td>\n",
       "      <td>1998</td>\n",
       "      <td>01-Jan-1998</td>\n",
       "      <td>http://us.imdb.com/Title?Sliding+Doors+(1998)</td>\n",
       "      <td>Drama,Romance</td>\n",
       "    </tr>\n",
       "    <tr>\n",
       "      <th>1429</th>\n",
       "      <td>Sliding Doors</td>\n",
       "      <td>1998</td>\n",
       "      <td>01-Jan-1998</td>\n",
       "      <td>http://us.imdb.com/Title?Sliding+Doors+(1998)</td>\n",
       "      <td>Drama,Romance</td>\n",
       "    </tr>\n",
       "    <tr>\n",
       "      <th>1658</th>\n",
       "      <td>Substance of Fire, The</td>\n",
       "      <td>1996</td>\n",
       "      <td>06-Dec-1996</td>\n",
       "      <td>http://us.imdb.com/M/title-exact?Substance%20o...</td>\n",
       "      <td>Drama</td>\n",
       "    </tr>\n",
       "    <tr>\n",
       "      <th>711</th>\n",
       "      <td>Substance of Fire, The</td>\n",
       "      <td>1996</td>\n",
       "      <td>06-Dec-1996</td>\n",
       "      <td>http://us.imdb.com/M/title-exact?Substance%20o...</td>\n",
       "      <td>Drama</td>\n",
       "    </tr>\n",
       "    <tr>\n",
       "      <th>1003</th>\n",
       "      <td>That Darn Cat!</td>\n",
       "      <td>1997</td>\n",
       "      <td>14-Feb-1997</td>\n",
       "      <td>http://us.imdb.com/M/title-exact?That%20Darn%2...</td>\n",
       "      <td>Childrens,Comedy,Mystery</td>\n",
       "    </tr>\n",
       "    <tr>\n",
       "      <th>878</th>\n",
       "      <td>That Darn Cat!</td>\n",
       "      <td>1997</td>\n",
       "      <td>14-Feb-1997</td>\n",
       "      <td>http://us.imdb.com/M/title-exact?That%20Darn%2...</td>\n",
       "      <td>Childrens,Comedy,Mystery</td>\n",
       "    </tr>\n",
       "    <tr>\n",
       "      <th>303</th>\n",
       "      <td>Ulee's Gold</td>\n",
       "      <td>1997</td>\n",
       "      <td>01-Jan-1997</td>\n",
       "      <td>http://us.imdb.com/M/title-exact?Ulee%27s+Gold...</td>\n",
       "      <td>Drama</td>\n",
       "    </tr>\n",
       "    <tr>\n",
       "      <th>297</th>\n",
       "      <td>Ulee's Gold</td>\n",
       "      <td>1997</td>\n",
       "      <td>01-Jan-1997</td>\n",
       "      <td>http://us.imdb.com/M/title-exact?Ulee%27s+Gold...</td>\n",
       "      <td>Drama</td>\n",
       "    </tr>\n",
       "  </tbody>\n",
       "</table>\n",
       "</div>"
      ],
      "text/plain": [
       "                            Title Release_Year Video_Release_Date  \\\n",
       "Movie_Id                                                            \n",
       "670                Body Snatchers         1993        01-Jan-1993   \n",
       "573                Body Snatchers         1993        01-Jan-1993   \n",
       "1650             Butcher Boy, The         1998        01-Jan-1998   \n",
       "1645             Butcher Boy, The         1998        01-Jan-1998   \n",
       "1234        Chairman of the Board         1998        01-Jan-1998   \n",
       "1654        Chairman of the Board         1998        01-Jan-1998   \n",
       "246                   Chasing Amy         1997        01-Jan-1997   \n",
       "268                   Chasing Amy         1997        01-Jan-1997   \n",
       "1606                     Deceiver         1997        01-Jan-1997   \n",
       "309                      Deceiver         1997        01-Jan-1997   \n",
       "1257      Designated Mourner, The         1997        23-May-1997   \n",
       "1256      Designated Mourner, The         1997        23-May-1997   \n",
       "348            Desperate Measures         1998        30-Jan-1998   \n",
       "329            Desperate Measures         1998        30-Jan-1998   \n",
       "500                 Fly Away Home         1996        13-Sep-1996   \n",
       "304                 Fly Away Home         1996        13-Sep-1996   \n",
       "1617                    Hugo Pool         1997        01-Jan-1997   \n",
       "1175                    Hugo Pool         1997        01-Jan-1997   \n",
       "1607            Hurricane Streets         1998        01-Jan-1998   \n",
       "1395            Hurricane Streets         1998        01-Jan-1998   \n",
       "305                Ice Storm, The         1997        01-Jan-1997   \n",
       "865                Ice Storm, The         1997        01-Jan-1997   \n",
       "680            Kull the Conqueror         1997        29-Aug-1997   \n",
       "266            Kull the Conqueror         1997        29-Aug-1997   \n",
       "876                   Money Talks         1997        22-Aug-1997   \n",
       "881                   Money Talks         1997        22-Aug-1997   \n",
       "1625                   Nightwatch         1997        22-Apr-1997   \n",
       "1477                   Nightwatch         1997        22-Apr-1997   \n",
       "1680                Sliding Doors         1998        01-Jan-1998   \n",
       "1429                Sliding Doors         1998        01-Jan-1998   \n",
       "1658       Substance of Fire, The         1996        06-Dec-1996   \n",
       "711        Substance of Fire, The         1996        06-Dec-1996   \n",
       "1003               That Darn Cat!         1997        14-Feb-1997   \n",
       "878                That Darn Cat!         1997        14-Feb-1997   \n",
       "303                   Ulee's Gold         1997        01-Jan-1997   \n",
       "297                   Ulee's Gold         1997        01-Jan-1997   \n",
       "\n",
       "                                                   IMDb_URL  \\\n",
       "Movie_Id                                                      \n",
       "670       http://us.imdb.com/M/title-exact?Body%20Snatch...   \n",
       "573       http://us.imdb.com/M/title-exact?Body%20Snatch...   \n",
       "1650      http://us.imdb.com/M/title-exact?imdb-title-11...   \n",
       "1645      http://us.imdb.com/M/title-exact?imdb-title-11...   \n",
       "1234      http://us.imdb.com/Title?Chairman+of+the+Board...   \n",
       "1654      http://us.imdb.com/Title?Chairman+of+the+Board...   \n",
       "246       http://us.imdb.com/M/title-exact?Chasing+Amy+(...   \n",
       "268       http://us.imdb.com/M/title-exact?Chasing+Amy+(...   \n",
       "1606           http://us.imdb.com/M/title-exact?Liar+(1997)   \n",
       "309            http://us.imdb.com/M/title-exact?Liar+(1997)   \n",
       "1257      http://us.imdb.com/M/title-exact?Designated%20...   \n",
       "1256      http://us.imdb.com/M/title-exact?Designated%20...   \n",
       "348       http://us.imdb.com/Title?Desperate+Measures+(1...   \n",
       "329       http://us.imdb.com/Title?Desperate+Measures+(1...   \n",
       "500       http://us.imdb.com/M/title-exact?Fly%20Away%20...   \n",
       "304       http://us.imdb.com/M/title-exact?Fly%20Away%20...   \n",
       "1617      http://us.imdb.com/M/title-exact?Hugo+Pool+(1997)   \n",
       "1175      http://us.imdb.com/M/title-exact?Hugo+Pool+(1997)   \n",
       "1607      http://us.imdb.com/Title?Hurricane+Streets+(1998)   \n",
       "1395      http://us.imdb.com/Title?Hurricane+Streets+(1998)   \n",
       "305       http://us.imdb.com/M/title-exact?Ice+Storm%2C+...   \n",
       "865       http://us.imdb.com/M/title-exact?Ice+Storm%2C+...   \n",
       "680       http://us.imdb.com/M/title-exact?Kull+the+Conq...   \n",
       "266       http://us.imdb.com/M/title-exact?Kull+the+Conq...   \n",
       "876       http://us.imdb.com/M/title-exact?Money+Talks+(...   \n",
       "881       http://us.imdb.com/M/title-exact?Money+Talks+(...   \n",
       "1625      http://us.imdb.com/M/title-exact?Nightwatch%20...   \n",
       "1477      http://us.imdb.com/M/title-exact?Nightwatch%20...   \n",
       "1680          http://us.imdb.com/Title?Sliding+Doors+(1998)   \n",
       "1429          http://us.imdb.com/Title?Sliding+Doors+(1998)   \n",
       "1658      http://us.imdb.com/M/title-exact?Substance%20o...   \n",
       "711       http://us.imdb.com/M/title-exact?Substance%20o...   \n",
       "1003      http://us.imdb.com/M/title-exact?That%20Darn%2...   \n",
       "878       http://us.imdb.com/M/title-exact?That%20Darn%2...   \n",
       "303       http://us.imdb.com/M/title-exact?Ulee%27s+Gold...   \n",
       "297       http://us.imdb.com/M/title-exact?Ulee%27s+Gold...   \n",
       "\n",
       "                            Genres  \n",
       "Movie_Id                            \n",
       "670         Horror,Sci-Fi,Thriller  \n",
       "573         Horror,Sci-Fi,Thriller  \n",
       "1650                         Drama  \n",
       "1645                         Drama  \n",
       "1234                        Comedy  \n",
       "1654                        Comedy  \n",
       "246                  Drama,Romance  \n",
       "268                  Drama,Romance  \n",
       "1606                         Crime  \n",
       "309                          Crime  \n",
       "1257                         Drama  \n",
       "1256                         Drama  \n",
       "348           Crime,Drama,Thriller  \n",
       "329           Crime,Drama,Thriller  \n",
       "500            Adventure,Childrens  \n",
       "304            Adventure,Childrens  \n",
       "1617                       Romance  \n",
       "1175                       Romance  \n",
       "1607                         Drama  \n",
       "1395                         Drama  \n",
       "305                          Drama  \n",
       "865                          Drama  \n",
       "680               Action,Adventure  \n",
       "266               Action,Adventure  \n",
       "876                  Action,Comedy  \n",
       "881                  Action,Comedy  \n",
       "1625               Horror,Thriller  \n",
       "1477               Horror,Thriller  \n",
       "1680                 Drama,Romance  \n",
       "1429                 Drama,Romance  \n",
       "1658                         Drama  \n",
       "711                          Drama  \n",
       "1003      Childrens,Comedy,Mystery  \n",
       "878       Childrens,Comedy,Mystery  \n",
       "303                          Drama  \n",
       "297                          Drama  "
      ]
     },
     "execution_count": 12,
     "metadata": {},
     "output_type": "execute_result"
    }
   ],
   "source": [
    "print(len(movies[movies.duplicated()]))\n",
    "duplicates = movies[movies.duplicated(keep=False)]\n",
    "duplicates = duplicates.sort_values(by=['Title'])\n",
    "duplicates"
   ]
  },
  {
   "cell_type": "markdown",
   "id": "efa42c38",
   "metadata": {},
   "source": [
    "18 movies exist multiple times with different ids.\n",
    "\n",
    "Check if all used movie ids are used in the rating dataset."
   ]
  },
  {
   "cell_type": "code",
   "execution_count": 13,
   "id": "1753e146",
   "metadata": {},
   "outputs": [
    {
     "name": "stdout",
     "output_type": "stream",
     "text": [
      "Movie_Id 670 is in ratings\n",
      "Movie_Id 573 is in ratings\n",
      "Movie_Id 1650 is in ratings\n",
      "Movie_Id 1645 is in ratings\n",
      "Movie_Id 1234 is in ratings\n",
      "Movie_Id 1654 is in ratings\n",
      "Movie_Id 246 is in ratings\n",
      "Movie_Id 268 is in ratings\n",
      "Movie_Id 1606 is in ratings\n",
      "Movie_Id 309 is in ratings\n",
      "Movie_Id 1257 is in ratings\n",
      "Movie_Id 1256 is in ratings\n",
      "Movie_Id 348 is in ratings\n",
      "Movie_Id 329 is in ratings\n",
      "Movie_Id 500 is in ratings\n",
      "Movie_Id 304 is in ratings\n",
      "Movie_Id 1617 is in ratings\n",
      "Movie_Id 1175 is in ratings\n",
      "Movie_Id 1607 is in ratings\n",
      "Movie_Id 1395 is in ratings\n",
      "Movie_Id 305 is in ratings\n",
      "Movie_Id 865 is in ratings\n",
      "Movie_Id 680 is in ratings\n",
      "Movie_Id 266 is in ratings\n",
      "Movie_Id 876 is in ratings\n",
      "Movie_Id 881 is in ratings\n",
      "Movie_Id 1625 is in ratings\n",
      "Movie_Id 1477 is in ratings\n",
      "Movie_Id 1680 is in ratings\n",
      "Movie_Id 1429 is in ratings\n",
      "Movie_Id 1658 is in ratings\n",
      "Movie_Id 711 is in ratings\n",
      "Movie_Id 1003 is in ratings\n",
      "Movie_Id 878 is in ratings\n",
      "Movie_Id 303 is in ratings\n",
      "Movie_Id 297 is in ratings\n"
     ]
    }
   ],
   "source": [
    "for el in duplicates.index:\n",
    "    movie_id = el\n",
    "    if movie_id in ratings['Movie_Id']:\n",
    "        print(f'Movie_Id {movie_id} is in ratings')\n",
    "    else:\n",
    "        print(f'Movie_Id {movie_id} is not in ratings')"
   ]
  },
  {
   "cell_type": "markdown",
   "id": "438f6953",
   "metadata": {},
   "source": [
    "All duplicate movie ids are used in the ratings dataset. Next step: replace the duplicated ids."
   ]
  },
  {
   "cell_type": "code",
   "execution_count": 14,
   "id": "d7c63265",
   "metadata": {},
   "outputs": [
    {
     "name": "stdout",
     "output_type": "stream",
     "text": [
      "{573: 670, 1645: 1650, 1654: 1234, 268: 246, 309: 1606, 1256: 1257, 329: 348, 304: 500, 1175: 1617, 1395: 1607, 865: 305, 266: 680, 881: 876, 1477: 1625, 1429: 1680, 711: 1658, 878: 1003, 297: 303}\n"
     ]
    }
   ],
   "source": [
    "replaced_ids = {}\n",
    "i = 0\n",
    "id_to_keep = 0\n",
    "id_to_replace = 0\n",
    "while i < len(duplicates.index):\n",
    "    el = duplicates.index[i]\n",
    "    if i % 2 == 0:\n",
    "        id_to_keep = el\n",
    "        i += 1\n",
    "    else:\n",
    "        id_to_replace = el\n",
    "        replaced_ids[id_to_replace] = id_to_keep\n",
    "        i += 1\n",
    "print(replaced_ids)"
   ]
  },
  {
   "cell_type": "code",
   "execution_count": 15,
   "id": "5d590f74",
   "metadata": {},
   "outputs": [],
   "source": [
    "ratings['Movie_Id'] = ratings['Movie_Id'].apply(lambda x: replaced_ids[x] if x in replaced_ids else x)"
   ]
  },
  {
   "cell_type": "code",
   "execution_count": 16,
   "id": "13bd55fc",
   "metadata": {},
   "outputs": [
    {
     "data": {
      "text/html": [
       "<div>\n",
       "<style scoped>\n",
       "    .dataframe tbody tr th:only-of-type {\n",
       "        vertical-align: middle;\n",
       "    }\n",
       "\n",
       "    .dataframe tbody tr th {\n",
       "        vertical-align: top;\n",
       "    }\n",
       "\n",
       "    .dataframe thead th {\n",
       "        text-align: right;\n",
       "    }\n",
       "</style>\n",
       "<table border=\"1\" class=\"dataframe\">\n",
       "  <thead>\n",
       "    <tr style=\"text-align: right;\">\n",
       "      <th></th>\n",
       "      <th>User_Id</th>\n",
       "      <th>Movie_Id</th>\n",
       "      <th>Rating</th>\n",
       "      <th>Timestamp</th>\n",
       "    </tr>\n",
       "  </thead>\n",
       "  <tbody>\n",
       "  </tbody>\n",
       "</table>\n",
       "</div>"
      ],
      "text/plain": [
       "Empty DataFrame\n",
       "Columns: [User_Id, Movie_Id, Rating, Timestamp]\n",
       "Index: []"
      ]
     },
     "execution_count": 16,
     "metadata": {},
     "output_type": "execute_result"
    }
   ],
   "source": [
    "ratings.loc[ratings['Movie_Id'] == 573]"
   ]
  },
  {
   "cell_type": "markdown",
   "id": "1c445c22",
   "metadata": {},
   "source": [
    "Check if Movie Ids still exist in ratings: No, movie Ids have been successfully replaced.\n",
    "\n",
    "Next: Remove the replaced ids from the movie dataset and create new Ids for all movies"
   ]
  },
  {
   "cell_type": "code",
   "execution_count": 17,
   "id": "71e9f579",
   "metadata": {},
   "outputs": [],
   "source": [
    "desired_indices = [i for i in movies.index.values if i not in replaced_ids]\n",
    "movies = movies.loc[desired_indices]"
   ]
  },
  {
   "cell_type": "markdown",
   "id": "a194c723",
   "metadata": {},
   "source": [
    "The exemplary movie id has been successfully removed from the movie dataset"
   ]
  },
  {
   "cell_type": "code",
   "execution_count": 18,
   "id": "a9290c98",
   "metadata": {},
   "outputs": [
    {
     "data": {
      "text/html": [
       "<div>\n",
       "<style scoped>\n",
       "    .dataframe tbody tr th:only-of-type {\n",
       "        vertical-align: middle;\n",
       "    }\n",
       "\n",
       "    .dataframe tbody tr th {\n",
       "        vertical-align: top;\n",
       "    }\n",
       "\n",
       "    .dataframe thead th {\n",
       "        text-align: right;\n",
       "    }\n",
       "</style>\n",
       "<table border=\"1\" class=\"dataframe\">\n",
       "  <thead>\n",
       "    <tr style=\"text-align: right;\">\n",
       "      <th></th>\n",
       "      <th>count</th>\n",
       "      <th>unique</th>\n",
       "      <th>top</th>\n",
       "      <th>freq</th>\n",
       "    </tr>\n",
       "  </thead>\n",
       "  <tbody>\n",
       "    <tr>\n",
       "      <th>Title</th>\n",
       "      <td>1664</td>\n",
       "      <td>1659</td>\n",
       "      <td>That Darn Cat!</td>\n",
       "      <td>2</td>\n",
       "    </tr>\n",
       "    <tr>\n",
       "      <th>Release_Year</th>\n",
       "      <td>1664</td>\n",
       "      <td>76</td>\n",
       "      <td>1996</td>\n",
       "      <td>295</td>\n",
       "    </tr>\n",
       "    <tr>\n",
       "      <th>Video_Release_Date</th>\n",
       "      <td>1663</td>\n",
       "      <td>240</td>\n",
       "      <td>01-Jan-1995</td>\n",
       "      <td>215</td>\n",
       "    </tr>\n",
       "    <tr>\n",
       "      <th>IMDb_URL</th>\n",
       "      <td>1661</td>\n",
       "      <td>1660</td>\n",
       "      <td>http://us.imdb.com/M/title-exact?imdb-title-11...</td>\n",
       "      <td>2</td>\n",
       "    </tr>\n",
       "    <tr>\n",
       "      <th>Genres</th>\n",
       "      <td>1664</td>\n",
       "      <td>216</td>\n",
       "      <td>Drama</td>\n",
       "      <td>370</td>\n",
       "    </tr>\n",
       "  </tbody>\n",
       "</table>\n",
       "</div>"
      ],
      "text/plain": [
       "                   count unique  \\\n",
       "Title               1664   1659   \n",
       "Release_Year        1664     76   \n",
       "Video_Release_Date  1663    240   \n",
       "IMDb_URL            1661   1660   \n",
       "Genres              1664    216   \n",
       "\n",
       "                                                                  top freq  \n",
       "Title                                                  That Darn Cat!    2  \n",
       "Release_Year                                                     1996  295  \n",
       "Video_Release_Date                                        01-Jan-1995  215  \n",
       "IMDb_URL            http://us.imdb.com/M/title-exact?imdb-title-11...    2  \n",
       "Genres                                                          Drama  370  "
      ]
     },
     "execution_count": 18,
     "metadata": {},
     "output_type": "execute_result"
    }
   ],
   "source": [
    "movies.describe(exclude=np.number).T"
   ]
  },
  {
   "cell_type": "markdown",
   "id": "ba042ef5",
   "metadata": {},
   "source": [
    "Two movies have missing IMDB information, which is currently not relevant for the envisioned recommendation task"
   ]
  },
  {
   "cell_type": "markdown",
   "id": "70850008",
   "metadata": {},
   "source": [
    "#### Reindexing of movie ids after deleting the duplicates"
   ]
  },
  {
   "cell_type": "code",
   "execution_count": 19,
   "id": "be5f0efd",
   "metadata": {},
   "outputs": [],
   "source": [
    "i = 0\n",
    "indices_new = []\n",
    "indices_dict = {}\n",
    "\n",
    "for index in movies.index.values:\n",
    "    indices_dict[index] = i\n",
    "    indices_new.append(i)\n",
    "    i += 1\n",
    "\n",
    "movies.index = indices_new    "
   ]
  },
  {
   "cell_type": "code",
   "execution_count": 20,
   "id": "777e28f5",
   "metadata": {},
   "outputs": [
    {
     "data": {
      "text/html": [
       "<div>\n",
       "<style scoped>\n",
       "    .dataframe tbody tr th:only-of-type {\n",
       "        vertical-align: middle;\n",
       "    }\n",
       "\n",
       "    .dataframe tbody tr th {\n",
       "        vertical-align: top;\n",
       "    }\n",
       "\n",
       "    .dataframe thead th {\n",
       "        text-align: right;\n",
       "    }\n",
       "</style>\n",
       "<table border=\"1\" class=\"dataframe\">\n",
       "  <thead>\n",
       "    <tr style=\"text-align: right;\">\n",
       "      <th></th>\n",
       "      <th>Title</th>\n",
       "      <th>Release_Year</th>\n",
       "      <th>Video_Release_Date</th>\n",
       "      <th>IMDb_URL</th>\n",
       "      <th>Genres</th>\n",
       "    </tr>\n",
       "  </thead>\n",
       "  <tbody>\n",
       "    <tr>\n",
       "      <th>0</th>\n",
       "      <td>Toy Story</td>\n",
       "      <td>1995</td>\n",
       "      <td>01-Jan-1995</td>\n",
       "      <td>http://us.imdb.com/M/title-exact?Toy%20Story%2...</td>\n",
       "      <td>Animation,Childrens,Comedy</td>\n",
       "    </tr>\n",
       "    <tr>\n",
       "      <th>1</th>\n",
       "      <td>GoldenEye</td>\n",
       "      <td>1995</td>\n",
       "      <td>01-Jan-1995</td>\n",
       "      <td>http://us.imdb.com/M/title-exact?GoldenEye%20(...</td>\n",
       "      <td>Action,Adventure,Thriller</td>\n",
       "    </tr>\n",
       "  </tbody>\n",
       "</table>\n",
       "</div>"
      ],
      "text/plain": [
       "       Title Release_Year Video_Release_Date  \\\n",
       "0  Toy Story         1995        01-Jan-1995   \n",
       "1  GoldenEye         1995        01-Jan-1995   \n",
       "\n",
       "                                            IMDb_URL  \\\n",
       "0  http://us.imdb.com/M/title-exact?Toy%20Story%2...   \n",
       "1  http://us.imdb.com/M/title-exact?GoldenEye%20(...   \n",
       "\n",
       "                       Genres  \n",
       "0  Animation,Childrens,Comedy  \n",
       "1   Action,Adventure,Thriller  "
      ]
     },
     "execution_count": 20,
     "metadata": {},
     "output_type": "execute_result"
    }
   ],
   "source": [
    "movies.head(2)"
   ]
  },
  {
   "cell_type": "markdown",
   "id": "34fb9263",
   "metadata": {},
   "source": [
    "#### Applying new movie ids to ratings dataset"
   ]
  },
  {
   "cell_type": "code",
   "execution_count": 21,
   "id": "625f0a51",
   "metadata": {},
   "outputs": [
    {
     "data": {
      "text/html": [
       "<div>\n",
       "<style scoped>\n",
       "    .dataframe tbody tr th:only-of-type {\n",
       "        vertical-align: middle;\n",
       "    }\n",
       "\n",
       "    .dataframe tbody tr th {\n",
       "        vertical-align: top;\n",
       "    }\n",
       "\n",
       "    .dataframe thead th {\n",
       "        text-align: right;\n",
       "    }\n",
       "</style>\n",
       "<table border=\"1\" class=\"dataframe\">\n",
       "  <thead>\n",
       "    <tr style=\"text-align: right;\">\n",
       "      <th></th>\n",
       "      <th>User_Id</th>\n",
       "      <th>Movie_Id</th>\n",
       "      <th>Rating</th>\n",
       "      <th>Timestamp</th>\n",
       "    </tr>\n",
       "  </thead>\n",
       "  <tbody>\n",
       "    <tr>\n",
       "      <th>0</th>\n",
       "      <td>196</td>\n",
       "      <td>242</td>\n",
       "      <td>3</td>\n",
       "      <td>881250949</td>\n",
       "    </tr>\n",
       "  </tbody>\n",
       "</table>\n",
       "</div>"
      ],
      "text/plain": [
       "   User_Id  Movie_Id  Rating  Timestamp\n",
       "0      196       242       3  881250949"
      ]
     },
     "execution_count": 21,
     "metadata": {},
     "output_type": "execute_result"
    }
   ],
   "source": [
    "ratings.head(1)"
   ]
  },
  {
   "cell_type": "code",
   "execution_count": 22,
   "id": "d9bb8269",
   "metadata": {
    "scrolled": true
   },
   "outputs": [],
   "source": [
    "indices_new = []\n",
    "for index in ratings['Movie_Id']:\n",
    "    if index in indices_dict:\n",
    "        indices_new.append(indices_dict[index])\n",
    "ratings['Movie_Id'] = indices_new\n"
   ]
  },
  {
   "cell_type": "code",
   "execution_count": 23,
   "id": "7ba99e3a",
   "metadata": {
    "scrolled": true
   },
   "outputs": [
    {
     "data": {
      "text/html": [
       "<div>\n",
       "<style scoped>\n",
       "    .dataframe tbody tr th:only-of-type {\n",
       "        vertical-align: middle;\n",
       "    }\n",
       "\n",
       "    .dataframe tbody tr th {\n",
       "        vertical-align: top;\n",
       "    }\n",
       "\n",
       "    .dataframe thead th {\n",
       "        text-align: right;\n",
       "    }\n",
       "</style>\n",
       "<table border=\"1\" class=\"dataframe\">\n",
       "  <thead>\n",
       "    <tr style=\"text-align: right;\">\n",
       "      <th></th>\n",
       "      <th>User_Id</th>\n",
       "      <th>Movie_Id</th>\n",
       "      <th>Rating</th>\n",
       "      <th>Timestamp</th>\n",
       "    </tr>\n",
       "  </thead>\n",
       "  <tbody>\n",
       "    <tr>\n",
       "      <th>0</th>\n",
       "      <td>196</td>\n",
       "      <td>241</td>\n",
       "      <td>3</td>\n",
       "      <td>881250949</td>\n",
       "    </tr>\n",
       "  </tbody>\n",
       "</table>\n",
       "</div>"
      ],
      "text/plain": [
       "   User_Id  Movie_Id  Rating  Timestamp\n",
       "0      196       241       3  881250949"
      ]
     },
     "execution_count": 23,
     "metadata": {},
     "output_type": "execute_result"
    }
   ],
   "source": [
    "ratings.head(1)"
   ]
  },
  {
   "cell_type": "code",
   "execution_count": null,
   "id": "48a2c12f",
   "metadata": {},
   "outputs": [],
   "source": []
  },
  {
   "cell_type": "markdown",
   "id": "4a6a16db",
   "metadata": {},
   "source": [
    "## Data Exploration"
   ]
  },
  {
   "cell_type": "code",
   "execution_count": 24,
   "id": "ebb63c01",
   "metadata": {},
   "outputs": [
    {
     "data": {
      "image/png": "[encoded data removed]",
      "text/plain": [
       "<Figure size 432x288 with 1 Axes>"
      ]
     },
     "metadata": {
      "needs_background": "light"
     },
     "output_type": "display_data"
    }
   ],
   "source": [
    "counts = dict()\n",
    "for i in movies.index:\n",
    "    for g in movies.loc[i,'Genres'].split(','):\n",
    "        if g not in counts:\n",
    "            counts[g] = 1\n",
    "        else:\n",
    "            counts[g] = counts[g] + 1\n",
    "\n",
    "counts = {k: v for k, v in sorted(counts.items(), key=lambda item: item[1])}\n",
    "plt.bar(list(counts.keys()), counts.values())\n",
    "plt.xticks(rotation=90)\n",
    "plt.xlabel('Genres')\n",
    "plt.ylabel('Counts')\n",
    "plt.title('Distribution of movie genres')\n",
    "plt.show()"
   ]
  },
  {
   "cell_type": "markdown",
   "id": "6faa5cf9",
   "metadata": {},
   "source": [
    "The 'Drama' and 'Comedy' genres are the two highest represented genre categories. The genres 'Animation', 'Western', 'Fantasy', 'Film-Noir' and 'Unknown' have the lowest representation."
   ]
  },
  {
   "cell_type": "code",
   "execution_count": 25,
   "id": "9be29da6",
   "metadata": {},
   "outputs": [
    {
     "data": {
      "image/png": "[encoded data removed]",
      "text/plain": [
       "<Figure size 1080x360 with 1 Axes>"
      ]
     },
     "metadata": {
      "needs_background": "light"
     },
     "output_type": "display_data"
    }
   ],
   "source": [
    "fig, ax = plt.subplots(figsize=(15,5))\n",
    "counts = dict()\n",
    "for i in movies.index:\n",
    "    for g in movies.loc[i,'Release_Year'].split(','):\n",
    "        if g not in counts:\n",
    "            counts[g] = 1\n",
    "        else:\n",
    "            counts[g] = counts[g] + 1\n",
    "            \n",
    "counts = dict(sorted(counts.items()))\n",
    "plt.bar(list(counts.keys()), counts.values())\n",
    "plt.xticks(rotation=90)\n",
    "plt.xlabel('Release Year')\n",
    "plt.ylabel('Counts')\n",
    "plt.title('Distribution of release years')\n",
    "plt.tight_layout()\n",
    "plt.show()"
   ]
  },
  {
   "cell_type": "markdown",
   "id": "24fa199b",
   "metadata": {},
   "source": [
    "The dataset contains wrongly formatted movie information as we can see that we have also extracted non-year values.\n",
    "#### Fix: ToDo\n",
    "\n",
    "Apart from this, we can see that most movies in the dataset are from 1995 and 1996, as well as the surrounding years."
   ]
  },
  {
   "cell_type": "code",
   "execution_count": 26,
   "id": "18e711b5",
   "metadata": {},
   "outputs": [
    {
     "data": {
      "image/png": "[encoded data removed]",
      "text/plain": [
       "<Figure size 432x288 with 1 Axes>"
      ]
     },
     "metadata": {
      "needs_background": "light"
     },
     "output_type": "display_data"
    }
   ],
   "source": [
    "movies_ct = []\n",
    "for i in ratings['Movie_Id']:\n",
    "    movies_ct.append(str(i))\n",
    "\n",
    "counts = Counter(movies_ct)\n",
    "counts = OrderedDict(counts.most_common())\n",
    "\n",
    "counts\n",
    "plt.bar(list(counts.keys()), counts.values())\n",
    "plt.xticks([])\n",
    "plt.xlabel('Items')\n",
    "plt.ylabel('Counts')\n",
    "plt.title('Long-tail distribution of item ratings')\n",
    "plt.show()"
   ]
  },
  {
   "cell_type": "markdown",
   "id": "e6b508f3",
   "metadata": {},
   "source": [
    "Very few movies have been rated a high number of times, while most movies have been only rated a few times."
   ]
  },
  {
   "cell_type": "code",
   "execution_count": null,
   "id": "482060e4",
   "metadata": {},
   "outputs": [],
   "source": []
  },
  {
   "cell_type": "code",
   "execution_count": null,
   "id": "19faa792",
   "metadata": {},
   "outputs": [],
   "source": []
  },
  {
   "cell_type": "markdown",
   "id": "cd45cf41",
   "metadata": {},
   "source": [
    "## Content-based movie recommendation using BERT (distilbert-base-nli-mean-tokens)\n",
    "### the recommender currently does not take rating information into consideration but bases the recommendations on all watched movies\n",
    "#### The recommender takes movie titles and movie genre information into consideration for recommendations\n"
   ]
  },
  {
   "cell_type": "code",
   "execution_count": 27,
   "id": "31440af5",
   "metadata": {},
   "outputs": [],
   "source": [
    "device = torch.device('cpu')\n",
    "model = SentenceTransformer('distilbert-base-nli-mean-tokens')\n"
   ]
  },
  {
   "cell_type": "code",
   "execution_count": 28,
   "id": "79790262",
   "metadata": {},
   "outputs": [],
   "source": [
    "def recommend_similar_movies(cos_sim_data, movie_index, top_k):\n",
    "    index_recomm =cos_sim_data.loc[movie_index].sort_values(ascending=False).index.tolist()[1:(top_k+1)]\n",
    "    movies_recomm =  movies['Title'].loc[index_recomm].values\n",
    "    \n",
    "    print(f\"Watched movie: {movies['Title'].loc[movie_index]} \\t Genres = {movies['Genres'].loc[movie_index]}\")\n",
    "    print(f\"top-{top_k} similar recommendations:\")\n",
    "    k=1\n",
    "    for m, movie in enumerate(movies_recomm):\n",
    "        print(f\"{k}. {movie} \\t Genres = {movies['Genres'].loc[index_recomm[m]]}\")\n",
    "        k=k+1"
   ]
  },
  {
   "cell_type": "code",
   "execution_count": 29,
   "id": "6b1beacc",
   "metadata": {},
   "outputs": [],
   "source": [
    "def show_user_genres(user_movies, user_index):\n",
    "    counts = dict()\n",
    "    for i in user_movies.index:\n",
    "        for g in user_movies.loc[i,'Genres'].split(','):\n",
    "            if g not in counts:\n",
    "                counts[g] = 1\n",
    "            else:\n",
    "                counts[g] = counts[g] + 1\n",
    "    plt.bar(list(counts.keys()), counts.values())\n",
    "    plt.xticks(rotation=90)\n",
    "    plt.xlabel('Genres')\n",
    "    plt.ylabel('Counts')\n",
    "    plt.title(f'Genre interest of user {user_index}')\n",
    "    plt.show()"
   ]
  },
  {
   "cell_type": "code",
   "execution_count": 30,
   "id": "74b3106d",
   "metadata": {},
   "outputs": [],
   "source": [
    "def make_recommendations_for_user(user_index, top_k): \n",
    "    rated_movies = ratings.loc[ratings['User_Id'] == user_index]['Movie_Id'].values\n",
    "    user_movies = movies.loc[movies.index.isin(rated_movies)]\n",
    "    \n",
    "    show_user_genres(user_movies, user_index)\n",
    "    \n",
    "    remaining_movies = pd.merge(movies, user_movies, indicator=True, how='outer').query('_merge==\"left_only\"').drop('_merge', axis=1)\n",
    "    \n",
    "    text_data = ''\n",
    "\n",
    "    for ind in user_movies.index: \n",
    "        text_data = text_data + ',' + user_movies['Title'][ind] + ',' + user_movies['Genres'][ind]\n",
    "\n",
    "    embeddings_user = model.encode(text_data)\n",
    "    embeddings_user = np.array(embeddings_user)\n",
    "\n",
    "    cos_sim_data1 = pd.DataFrame(cosine_similarity([embeddings_user], embeddings))\n",
    "    cos_sim_data1 = cos_sim_data1.T\n",
    "    cos_sim_data1 = cos_sim_data1.loc[cos_sim_data1.index.isin(remaining_movies.index.values)]\n",
    "    cos_sim_data1 = cos_sim_data1.T\n",
    "    #print(cos_sim_data1.shape)\n",
    "    \n",
    "    index_recomm =cos_sim_data1.loc[0].sort_values(ascending=False).index.tolist()[1:(top_k+1)]\n",
    "    movies_recomm =  movies['Title'].loc[index_recomm].values\n",
    "    \n",
    "    print(f\"top-{top_k} new movie recommendations for user {user_index}:\")\n",
    "    k=1\n",
    "    for m, movie in enumerate(movies_recomm):\n",
    "        print(f\"{k}. {movie} \\t Genres = {movies['Genres'].loc[index_recomm[m]]}\")\n",
    "        k=k+1"
   ]
  },
  {
   "cell_type": "code",
   "execution_count": 31,
   "id": "6271c2c1",
   "metadata": {},
   "outputs": [
    {
     "name": "stderr",
     "output_type": "stream",
     "text": [
      "Batches: 100%|█████████████████████████████████████████████████████████████████████████| 52/52 [00:21<00:00,  2.40it/s]\n"
     ]
    }
   ],
   "source": [
    "text_data = movies['Title'] + ',' + movies['Genres']\n",
    "embeddings = model.encode(text_data, show_progress_bar=True)\n",
    "X = np.array(embeddings)\n",
    "cos_sim_data = pd.DataFrame(cosine_similarity(X))"
   ]
  },
  {
   "cell_type": "code",
   "execution_count": 32,
   "id": "0e771255",
   "metadata": {},
   "outputs": [
    {
     "name": "stdout",
     "output_type": "stream",
     "text": [
      "Watched movie: Toy Story \t Genres = Animation,Childrens,Comedy\n",
      "top-5 similar recommendations:\n",
      "1. Aladdin \t Genres = Animation,Childrens,Comedy,Musical\n",
      "2. Kazaam \t Genres = Childrens,Comedy,Fantasy\n",
      "3. Fantasia \t Genres = Animation,Childrens,Musical\n",
      "4. Hercules \t Genres = Adventure,Animation,Childrens,Comedy,Musical\n",
      "5. Little Rascals, The \t Genres = Childrens,Comedy\n"
     ]
    }
   ],
   "source": [
    "recommend_similar_movies(cos_sim_data, movie_index=0, top_k=5)"
   ]
  },
  {
   "cell_type": "code",
   "execution_count": 33,
   "id": "876edcf6",
   "metadata": {},
   "outputs": [
    {
     "data": {
      "image/png": "[encoded data removed]",
      "text/plain": [
       "<Figure size 432x288 with 1 Axes>"
      ]
     },
     "metadata": {
      "needs_background": "light"
     },
     "output_type": "display_data"
    },
    {
     "name": "stdout",
     "output_type": "stream",
     "text": [
      "top-10 new movie recommendations for user 5:\n",
      "1. Akira \t Genres = Adventure,Animation,Sci-Fi,Thriller\n",
      "2. Space Jam \t Genres = Adventure,Animation,Childrens,Comedy,Fantasy\n",
      "3. Hercules \t Genres = Adventure,Animation,Childrens,Comedy,Musical\n",
      "4. Jumanji \t Genres = Action,Adventure,Childrens,Fantasy,Sci-Fi\n",
      "5. Kid in King Arthur's Court, A \t Genres = Adventure,Childrens,Comedy,Fantasy,Romance,Sci-Fi\n",
      "6. Jurassic Park \t Genres = Action,Adventure,Sci-Fi\n",
      "7. Wizard of Oz, The \t Genres = Adventure,Childrens,Drama,Musical\n",
      "8. Big Lebowski, The \t Genres = Comedy,Crime,Mystery,Thriller\n",
      "9. Pocahontas \t Genres = Animation,Childrens,Musical,Romance\n",
      "10. Turbo: A Power Rangers Movie \t Genres = Action,Adventure,Childrens\n"
     ]
    }
   ],
   "source": [
    "make_recommendations_for_user(user_index=5, top_k=10)"
   ]
  },
  {
   "cell_type": "code",
   "execution_count": null,
   "id": "d396a151",
   "metadata": {},
   "outputs": [],
   "source": [
    "\n"
   ]
  }
 ],
 "metadata": {
  "kernelspec": {
   "display_name": "Python 3 (ipykernel)",
   "language": "python",
   "name": "python3"
  },
  "language_info": {
   "codemirror_mode": {
    "name": "ipython",
    "version": 3
   },
   "file_extension": ".py",
   "mimetype": "text/x-python",
   "name": "python",
   "nbconvert_exporter": "python",
   "pygments_lexer": "ipython3",
   "version": "3.8.12"
  }
 },
 "nbformat": 4,
 "nbformat_minor": 5
}
